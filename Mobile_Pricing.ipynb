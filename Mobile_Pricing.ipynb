{
  "nbformat": 4,
  "nbformat_minor": 0,
  "metadata": {
    "colab": {
      "name": "Mobile Pricing.ipynb",
      "version": "0.3.2",
      "provenance": [],
      "collapsed_sections": [],
      "include_colab_link": true
    },
    "kernelspec": {
      "name": "python3",
      "display_name": "Python 3"
    },
    "accelerator": "TPU"
  },
  "cells": [
    {
      "cell_type": "markdown",
      "metadata": {
        "id": "view-in-github",
        "colab_type": "text"
      },
      "source": [
        "<a href=\"https://colab.research.google.com/github/BeverlyHuang/mobile_price/blob/master/Mobile_Pricing.ipynb\" target=\"_parent\"><img src=\"https://colab.research.google.com/assets/colab-badge.svg\" alt=\"Open In Colab\"/></a>"
      ]
    },
    {
      "metadata": {
        "id": "YrTL-PkbRq_R",
        "colab_type": "text"
      },
      "cell_type": "markdown",
      "source": [
        "#Applying Machine Learning to Mobile Pricing"
      ]
    },
    {
      "metadata": {
        "id": "B2Z_DS1dUlIZ",
        "colab_type": "text"
      },
      "cell_type": "markdown",
      "source": [
        "Pricing is a very powerful tool in business. No matter you are creating a new product or starting a new business, you need to think about how to price your product smartly. Especially in a competitive market, if you are good at pricing, you can differentiate yourself from your competitors and get more market share. \n",
        "\n",
        "Thus,  the problem is how do we price our product. This project will use mobile phone market as an example to illustrate the machine learning method we can use for pricing.\n"
      ]
    },
    {
      "metadata": {
        "id": "OQTzwAdXPbAR",
        "colab_type": "text"
      },
      "cell_type": "markdown",
      "source": [
        "#Ingestion"
      ]
    },
    {
      "metadata": {
        "id": "ZQTbz3geUoay",
        "colab_type": "text"
      },
      "cell_type": "markdown",
      "source": [
        "##Import Libraries"
      ]
    },
    {
      "metadata": {
        "id": "Y89etaZPRkOy",
        "colab_type": "code",
        "colab": {}
      },
      "cell_type": "code",
      "source": [
        "import numpy as np\n",
        "import pandas as pd\n",
        "import matplotlib.pyplot as plt\n",
        "import seaborn as sns\n",
        "\n",
        "from sklearn.neighbors import KNeighborsClassifier\n",
        "from sklearn.linear_model import LogisticRegression\n",
        "from sklearn.tree import DecisionTreeClassifier\n",
        "from sklearn.ensemble import RandomForestClassifier\n",
        "from mlxtend.classifier import StackingClassifier\n",
        "\n",
        "from scipy.stats import randint\n",
        "from sklearn import model_selection\n",
        "from sklearn.model_selection import train_test_split, GridSearchCV, RandomizedSearchCV\n",
        "from yellowbrick.classifier import ConfusionMatrix\n",
        "from sklearn.metrics import classification_report\n",
        "%matplotlib inline"
      ],
      "execution_count": 0,
      "outputs": []
    },
    {
      "metadata": {
        "id": "fwJ60-P6UzVs",
        "colab_type": "text"
      },
      "cell_type": "markdown",
      "source": [
        "##Load Data"
      ]
    },
    {
      "metadata": {
        "id": "Tq0al7iVzBSw",
        "colab_type": "text"
      },
      "cell_type": "markdown",
      "source": [
        "The dataset contains data on different mobile phone features such as battery power, internal memory, etc. and its selling price. \n",
        "The last column is our target - price. In this case, prices are in ranges. The larger the number, the higher the price of the phone."
      ]
    },
    {
      "metadata": {
        "id": "Q5FvZzwqU1hq",
        "colab_type": "code",
        "outputId": "601fae6d-866e-415c-ced5-0a1a486cc34d",
        "colab": {
          "base_uri": "https://localhost:8080/",
          "height": 253
        }
      },
      "cell_type": "code",
      "source": [
        "mobile = pd.read_csv(\"https://raw.githubusercontent.com/BeverlyHuang/mobile_price/master/train.csv\")\n",
        "mobile.head()"
      ],
      "execution_count": 76,
      "outputs": [
        {
          "output_type": "execute_result",
          "data": {
            "text/html": [
              "<div>\n",
              "<style scoped>\n",
              "    .dataframe tbody tr th:only-of-type {\n",
              "        vertical-align: middle;\n",
              "    }\n",
              "\n",
              "    .dataframe tbody tr th {\n",
              "        vertical-align: top;\n",
              "    }\n",
              "\n",
              "    .dataframe thead th {\n",
              "        text-align: right;\n",
              "    }\n",
              "</style>\n",
              "<table border=\"1\" class=\"dataframe\">\n",
              "  <thead>\n",
              "    <tr style=\"text-align: right;\">\n",
              "      <th></th>\n",
              "      <th>battery_power</th>\n",
              "      <th>blue</th>\n",
              "      <th>clock_speed</th>\n",
              "      <th>dual_sim</th>\n",
              "      <th>fc</th>\n",
              "      <th>four_g</th>\n",
              "      <th>int_memory</th>\n",
              "      <th>m_dep</th>\n",
              "      <th>mobile_wt</th>\n",
              "      <th>n_cores</th>\n",
              "      <th>...</th>\n",
              "      <th>px_height</th>\n",
              "      <th>px_width</th>\n",
              "      <th>ram</th>\n",
              "      <th>sc_h</th>\n",
              "      <th>sc_w</th>\n",
              "      <th>talk_time</th>\n",
              "      <th>three_g</th>\n",
              "      <th>touch_screen</th>\n",
              "      <th>wifi</th>\n",
              "      <th>price_range</th>\n",
              "    </tr>\n",
              "  </thead>\n",
              "  <tbody>\n",
              "    <tr>\n",
              "      <th>0</th>\n",
              "      <td>842</td>\n",
              "      <td>0</td>\n",
              "      <td>2.2</td>\n",
              "      <td>0</td>\n",
              "      <td>1</td>\n",
              "      <td>0</td>\n",
              "      <td>7</td>\n",
              "      <td>0.6</td>\n",
              "      <td>188</td>\n",
              "      <td>2</td>\n",
              "      <td>...</td>\n",
              "      <td>20</td>\n",
              "      <td>756</td>\n",
              "      <td>2549</td>\n",
              "      <td>9</td>\n",
              "      <td>7</td>\n",
              "      <td>19</td>\n",
              "      <td>0</td>\n",
              "      <td>0</td>\n",
              "      <td>1</td>\n",
              "      <td>1</td>\n",
              "    </tr>\n",
              "    <tr>\n",
              "      <th>1</th>\n",
              "      <td>1021</td>\n",
              "      <td>1</td>\n",
              "      <td>0.5</td>\n",
              "      <td>1</td>\n",
              "      <td>0</td>\n",
              "      <td>1</td>\n",
              "      <td>53</td>\n",
              "      <td>0.7</td>\n",
              "      <td>136</td>\n",
              "      <td>3</td>\n",
              "      <td>...</td>\n",
              "      <td>905</td>\n",
              "      <td>1988</td>\n",
              "      <td>2631</td>\n",
              "      <td>17</td>\n",
              "      <td>3</td>\n",
              "      <td>7</td>\n",
              "      <td>1</td>\n",
              "      <td>1</td>\n",
              "      <td>0</td>\n",
              "      <td>2</td>\n",
              "    </tr>\n",
              "    <tr>\n",
              "      <th>2</th>\n",
              "      <td>563</td>\n",
              "      <td>1</td>\n",
              "      <td>0.5</td>\n",
              "      <td>1</td>\n",
              "      <td>2</td>\n",
              "      <td>1</td>\n",
              "      <td>41</td>\n",
              "      <td>0.9</td>\n",
              "      <td>145</td>\n",
              "      <td>5</td>\n",
              "      <td>...</td>\n",
              "      <td>1263</td>\n",
              "      <td>1716</td>\n",
              "      <td>2603</td>\n",
              "      <td>11</td>\n",
              "      <td>2</td>\n",
              "      <td>9</td>\n",
              "      <td>1</td>\n",
              "      <td>1</td>\n",
              "      <td>0</td>\n",
              "      <td>2</td>\n",
              "    </tr>\n",
              "    <tr>\n",
              "      <th>3</th>\n",
              "      <td>615</td>\n",
              "      <td>1</td>\n",
              "      <td>2.5</td>\n",
              "      <td>0</td>\n",
              "      <td>0</td>\n",
              "      <td>0</td>\n",
              "      <td>10</td>\n",
              "      <td>0.8</td>\n",
              "      <td>131</td>\n",
              "      <td>6</td>\n",
              "      <td>...</td>\n",
              "      <td>1216</td>\n",
              "      <td>1786</td>\n",
              "      <td>2769</td>\n",
              "      <td>16</td>\n",
              "      <td>8</td>\n",
              "      <td>11</td>\n",
              "      <td>1</td>\n",
              "      <td>0</td>\n",
              "      <td>0</td>\n",
              "      <td>2</td>\n",
              "    </tr>\n",
              "    <tr>\n",
              "      <th>4</th>\n",
              "      <td>1821</td>\n",
              "      <td>1</td>\n",
              "      <td>1.2</td>\n",
              "      <td>0</td>\n",
              "      <td>13</td>\n",
              "      <td>1</td>\n",
              "      <td>44</td>\n",
              "      <td>0.6</td>\n",
              "      <td>141</td>\n",
              "      <td>2</td>\n",
              "      <td>...</td>\n",
              "      <td>1208</td>\n",
              "      <td>1212</td>\n",
              "      <td>1411</td>\n",
              "      <td>8</td>\n",
              "      <td>2</td>\n",
              "      <td>15</td>\n",
              "      <td>1</td>\n",
              "      <td>1</td>\n",
              "      <td>0</td>\n",
              "      <td>1</td>\n",
              "    </tr>\n",
              "  </tbody>\n",
              "</table>\n",
              "<p>5 rows × 21 columns</p>\n",
              "</div>"
            ],
            "text/plain": [
              "   battery_power  blue  clock_speed  dual_sim  fc  four_g  int_memory  m_dep  \\\n",
              "0            842     0          2.2         0   1       0           7    0.6   \n",
              "1           1021     1          0.5         1   0       1          53    0.7   \n",
              "2            563     1          0.5         1   2       1          41    0.9   \n",
              "3            615     1          2.5         0   0       0          10    0.8   \n",
              "4           1821     1          1.2         0  13       1          44    0.6   \n",
              "\n",
              "   mobile_wt  n_cores     ...       px_height  px_width   ram  sc_h  sc_w  \\\n",
              "0        188        2     ...              20       756  2549     9     7   \n",
              "1        136        3     ...             905      1988  2631    17     3   \n",
              "2        145        5     ...            1263      1716  2603    11     2   \n",
              "3        131        6     ...            1216      1786  2769    16     8   \n",
              "4        141        2     ...            1208      1212  1411     8     2   \n",
              "\n",
              "   talk_time  three_g  touch_screen  wifi  price_range  \n",
              "0         19        0             0     1            1  \n",
              "1          7        1             1     0            2  \n",
              "2          9        1             1     0            2  \n",
              "3         11        1             0     0            2  \n",
              "4         15        1             1     0            1  \n",
              "\n",
              "[5 rows x 21 columns]"
            ]
          },
          "metadata": {
            "tags": []
          },
          "execution_count": 76
        }
      ]
    },
    {
      "metadata": {
        "id": "wzETKxpUVD2e",
        "colab_type": "text"
      },
      "cell_type": "markdown",
      "source": [
        "#EDA"
      ]
    },
    {
      "metadata": {
        "id": "X0CL9qxFVGoh",
        "colab_type": "text"
      },
      "cell_type": "markdown",
      "source": [
        "##Correlation Heatmap"
      ]
    },
    {
      "metadata": {
        "id": "YJZ0E5PPzrO2",
        "colab_type": "text"
      },
      "cell_type": "markdown",
      "source": [
        "To understand the relationship between the features of a mobile phone and its selling price, I use Seaborn Correlation Heatmap to visualize correlations between all variables. From the Heatmap, we can see that ram, battery power, internal memory and dual sim have higher correlation with selling price than any other features.\n"
      ]
    },
    {
      "metadata": {
        "id": "wbHYgdw6VEyl",
        "colab_type": "code",
        "outputId": "27b94239-a5ab-47dc-a0e3-4498b4f8b1fd",
        "colab": {
          "base_uri": "https://localhost:8080/",
          "height": 336
        }
      },
      "cell_type": "code",
      "source": [
        "corr = mobile.corr()\n",
        "sns.heatmap(corr, \n",
        "            xticklabels=corr.columns.values,\n",
        "            yticklabels=corr.columns.values, \n",
        "            cmap='YlGnBu')"
      ],
      "execution_count": 57,
      "outputs": [
        {
          "output_type": "execute_result",
          "data": {
            "text/plain": [
              "<matplotlib.axes._subplots.AxesSubplot at 0x7f675b38e748>"
            ]
          },
          "metadata": {
            "tags": []
          },
          "execution_count": 57
        },
        {
          "output_type": "display_data",
          "data": {
            "image/png": "[encoded data removed]",
            "text/plain": [
              "<Figure size 432x288 with 2 Axes>"
            ]
          },
          "metadata": {
            "tags": []
          }
        }
      ]
    },
    {
      "metadata": {
        "id": "v-jDUI9mV-1y",
        "colab_type": "text"
      },
      "cell_type": "markdown",
      "source": [
        "##Ram vs Price"
      ]
    },
    {
      "metadata": {
        "id": "G9Toy_TCz5Ou",
        "colab_type": "text"
      },
      "cell_type": "markdown",
      "source": [
        "I take out each feature and use Seaborn plots to look at their relationships with selling price.\n",
        "The joint plot shows the distribution of both variables and the density of all data points. We can see that the higher the ram, the higher the price range."
      ]
    },
    {
      "metadata": {
        "id": "534Rhm4TXU8T",
        "colab_type": "code",
        "outputId": "a825f01a-6032-4192-ce3d-21317854bfcd",
        "colab": {
          "base_uri": "https://localhost:8080/",
          "height": 458
        }
      },
      "cell_type": "code",
      "source": [
        "sns.jointplot(x=\"ram\", y=\"price_range\", data=mobile, kind=\"kde\")"
      ],
      "execution_count": 58,
      "outputs": [
        {
          "output_type": "execute_result",
          "data": {
            "text/plain": [
              "<seaborn.axisgrid.JointGrid at 0x7f675b417860>"
            ]
          },
          "metadata": {
            "tags": []
          },
          "execution_count": 58
        },
        {
          "output_type": "display_data",
          "data": {
            "image/png": "[encoded data removed]",
            "text/plain": [
              "<Figure size 432x432 with 3 Axes>"
            ]
          },
          "metadata": {
            "tags": []
          }
        }
      ]
    },
    {
      "metadata": {
        "id": "K73LON9faB2-",
        "colab_type": "text"
      },
      "cell_type": "markdown",
      "source": [
        "##Battery Power vs Price"
      ]
    },
    {
      "metadata": {
        "id": "I6HCOokfoqAS",
        "colab_type": "code",
        "outputId": "f0c5c23d-edaf-4aa4-b9e8-a9766ae02b41",
        "colab": {
          "base_uri": "https://localhost:8080/",
          "height": 458
        }
      },
      "cell_type": "code",
      "source": [
        "sns.jointplot(x=\"battery_power\", y=\"price_range\", data=mobile, kind=\"kde\", color=\"grey\")"
      ],
      "execution_count": 59,
      "outputs": [
        {
          "output_type": "execute_result",
          "data": {
            "text/plain": [
              "<seaborn.axisgrid.JointGrid at 0x7f6757e97e48>"
            ]
          },
          "metadata": {
            "tags": []
          },
          "execution_count": 59
        },
        {
          "output_type": "display_data",
          "data": {
            "image/png": "[encoded data removed]",
            "text/plain": [
              "<Figure size 432x432 with 3 Axes>"
            ]
          },
          "metadata": {
            "tags": []
          }
        }
      ]
    },
    {
      "metadata": {
        "id": "KuUWU-B_YFoA",
        "colab_type": "text"
      },
      "cell_type": "markdown",
      "source": [
        "##Memory vs Price"
      ]
    },
    {
      "metadata": {
        "id": "yMXbiai1YMEQ",
        "colab_type": "code",
        "outputId": "4b567842-bb40-45e8-d878-d7a90dee4b61",
        "colab": {
          "base_uri": "https://localhost:8080/",
          "height": 296
        }
      },
      "cell_type": "code",
      "source": [
        "sns.barplot(x=\"price_range\", y=\"int_memory\", data=mobile)"
      ],
      "execution_count": 60,
      "outputs": [
        {
          "output_type": "execute_result",
          "data": {
            "text/plain": [
              "<matplotlib.axes._subplots.AxesSubplot at 0x7f6757cab630>"
            ]
          },
          "metadata": {
            "tags": []
          },
          "execution_count": 60
        },
        {
          "output_type": "display_data",
          "data": {
            "image/png": "[encoded data removed]",
            "text/plain": [
              "<Figure size 432x288 with 1 Axes>"
            ]
          },
          "metadata": {
            "tags": []
          }
        }
      ]
    },
    {
      "metadata": {
        "id": "PRFKEW5Zlye9",
        "colab_type": "text"
      },
      "cell_type": "markdown",
      "source": [
        "##Dual sim vs Price"
      ]
    },
    {
      "metadata": {
        "id": "ZNC4o2-5l6sY",
        "colab_type": "code",
        "outputId": "e7452540-211f-4985-eb0e-8f9e49d1caba",
        "colab": {
          "base_uri": "https://localhost:8080/",
          "height": 296
        }
      },
      "cell_type": "code",
      "source": [
        "sns.boxplot(x=\"dual_sim\", y=\"price_range\", data=mobile)"
      ],
      "execution_count": 61,
      "outputs": [
        {
          "output_type": "execute_result",
          "data": {
            "text/plain": [
              "<matplotlib.axes._subplots.AxesSubplot at 0x7f6757c0e630>"
            ]
          },
          "metadata": {
            "tags": []
          },
          "execution_count": 61
        },
        {
          "output_type": "display_data",
          "data": {
            "image/png": "[encoded data removed]",
            "text/plain": [
              "<Figure size 432x288 with 1 Axes>"
            ]
          },
          "metadata": {
            "tags": []
          }
        }
      ]
    },
    {
      "metadata": {
        "id": "V5bi7fiPai3Y",
        "colab_type": "text"
      },
      "cell_type": "markdown",
      "source": [
        "#Classification Modeling"
      ]
    },
    {
      "metadata": {
        "id": "GguzLatt18rP",
        "colab_type": "text"
      },
      "cell_type": "markdown",
      "source": [
        "I want to build a classification model to classify price range based on product features."
      ]
    },
    {
      "metadata": {
        "id": "mECb7ntoapew",
        "colab_type": "text"
      },
      "cell_type": "markdown",
      "source": [
        "###Seperate features and target"
      ]
    },
    {
      "metadata": {
        "id": "U3CrnrzjaoO_",
        "colab_type": "code",
        "colab": {}
      },
      "cell_type": "code",
      "source": [
        "X=mobile.drop('price_range',axis=1)\n",
        "y=mobile['price_range']"
      ],
      "execution_count": 0,
      "outputs": []
    },
    {
      "metadata": {
        "id": "I6Ji-tJya1jG",
        "colab_type": "text"
      },
      "cell_type": "markdown",
      "source": [
        "###Train/Test split"
      ]
    },
    {
      "metadata": {
        "id": "-j7RdmBfa5oL",
        "colab_type": "code",
        "colab": {}
      },
      "cell_type": "code",
      "source": [
        "X_train, X_test, y_train, y_test = train_test_split(X, y, test_size=0.3, random_state=100, stratify=y)"
      ],
      "execution_count": 0,
      "outputs": []
    },
    {
      "metadata": {
        "id": "O1PFGFP__0no",
        "colab_type": "text"
      },
      "cell_type": "markdown",
      "source": [
        "##Model 1: KNN"
      ]
    },
    {
      "metadata": {
        "id": "zKH1eUXTi9px",
        "colab_type": "text"
      },
      "cell_type": "markdown",
      "source": [
        "###Find the best K to build a KNN model"
      ]
    },
    {
      "metadata": {
        "id": "mjqVSmlN0Kzd",
        "colab_type": "text"
      },
      "cell_type": "markdown",
      "source": [
        "What K (number of nearest neighbors) should we choose?"
      ]
    },
    {
      "metadata": {
        "id": "rQ0dJ8AacoyR",
        "colab_type": "text"
      },
      "cell_type": "markdown",
      "source": [
        "####Method 1: Plot testing accuracy and select the K with highest accuracy"
      ]
    },
    {
      "metadata": {
        "id": "HmhyGzhJ0URw",
        "colab_type": "text"
      },
      "cell_type": "markdown",
      "source": [
        "I plot training and testing accuracy of the KNN model for K values from 1 to 30. When K = 15, the model has the highest testing accuracy."
      ]
    },
    {
      "metadata": {
        "id": "H5DMvkTBcpvD",
        "colab_type": "code",
        "outputId": "a9b0eedc-0cd5-4035-ef97-a09afd8f8626",
        "colab": {
          "base_uri": "https://localhost:8080/",
          "height": 294
        }
      },
      "cell_type": "code",
      "source": [
        "# set up array to store train/test accuracy\n",
        "neighbors = np.arange(1,30)\n",
        "train_accuracy = np.empty(len(neighbors))\n",
        "test_accuracy = np.empty(len(neighbors))\n",
        "\n",
        "# loop over different k\n",
        "for i, k in enumerate(neighbors):\n",
        "  knn = KNeighborsClassifier(n_neighbors = k)\n",
        "  knn.fit(X_train, y_train)\n",
        "  train_accuracy[i] = knn.score(X_train, y_train)\n",
        "  test_accuracy[i] = knn.score(X_test, y_test)\n",
        "\n",
        "# generate plot\n",
        "plt.title(\"KNN: Varying Number of Neighbors\")\n",
        "plt.plot(neighbors, test_accuracy, label = \"Testing Accuracy\")\n",
        "plt.plot(neighbors, train_accuracy, label = \"Training Accuracy\")\n",
        "plt.legend()\n",
        "plt.xlabel(\"Number of Neighbors\")\n",
        "plt.ylabel(\"Accuracy\")\n",
        "plt.show()"
      ],
      "execution_count": 64,
      "outputs": [
        {
          "output_type": "display_data",
          "data": {
            "image/png": "[encoded data removed]",
            "text/plain": [
              "<Figure size 432x288 with 1 Axes>"
            ]
          },
          "metadata": {
            "tags": []
          }
        }
      ]
    },
    {
      "metadata": {
        "id": "lH80VtEEc15p",
        "colab_type": "text"
      },
      "cell_type": "markdown",
      "source": [
        "#### Method 2: Use GridSearchCV to automatically search for the best K"
      ]
    },
    {
      "metadata": {
        "id": "yI0lykEJ0fcC",
        "colab_type": "text"
      },
      "cell_type": "markdown",
      "source": [
        "I use another method called Grid Search cross validation. This method will try a bunch of K values, fit all of them separately and tell me which K performs best. This method also gives me the same answer: K = 15."
      ]
    },
    {
      "metadata": {
        "id": "4qCIgdBDdBBb",
        "colab_type": "code",
        "outputId": "7feb6c57-f3cf-4862-9d30-7d967704c61a",
        "colab": {
          "base_uri": "https://localhost:8080/",
          "height": 34
        }
      },
      "cell_type": "code",
      "source": [
        "param_grid = {'n_neighbors': np.arange(1,30)}\n",
        "knn_cv = GridSearchCV(knn, param_grid, cv=7)\n",
        "knn_cv.fit(X_train,y_train)\n",
        "knn_cv.best_params_"
      ],
      "execution_count": 79,
      "outputs": [
        {
          "output_type": "execute_result",
          "data": {
            "text/plain": [
              "{'n_neighbors': 15}"
            ]
          },
          "metadata": {
            "tags": []
          },
          "execution_count": 79
        }
      ]
    },
    {
      "metadata": {
        "id": "Iz0O8UT3epk2",
        "colab_type": "text"
      },
      "cell_type": "markdown",
      "source": [
        "###Use the best K to predict"
      ]
    },
    {
      "metadata": {
        "id": "XJiQHNZb0sSV",
        "colab_type": "text"
      },
      "cell_type": "markdown",
      "source": [
        "So I use K = 15 to build the KNN model and predict test data, and accuracy is 93%."
      ]
    },
    {
      "metadata": {
        "id": "5oJZox-hesbx",
        "colab_type": "code",
        "outputId": "59075181-7458-4a17-8567-b97afc38cbaf",
        "colab": {
          "base_uri": "https://localhost:8080/",
          "height": 34
        }
      },
      "cell_type": "code",
      "source": [
        "y_pred = knn_cv.predict(X_test)\n",
        "knn_cv.score(X_test,y_test)"
      ],
      "execution_count": 80,
      "outputs": [
        {
          "output_type": "execute_result",
          "data": {
            "text/plain": [
              "0.9316666666666666"
            ]
          },
          "metadata": {
            "tags": []
          },
          "execution_count": 80
        }
      ]
    },
    {
      "metadata": {
        "id": "mCG6WaDG_G6_",
        "colab_type": "text"
      },
      "cell_type": "markdown",
      "source": [
        "##Model 2: Logistics Regression"
      ]
    },
    {
      "metadata": {
        "id": "ODR8za5R_99J",
        "colab_type": "text"
      },
      "cell_type": "markdown",
      "source": [
        "### Set up hyperparameter grid"
      ]
    },
    {
      "metadata": {
        "id": "Cj4OU7Mp1o3q",
        "colab_type": "code",
        "colab": {}
      },
      "cell_type": "code",
      "source": [
        "c_space = np.logspace(-5,8,15)\n",
        "param_grid = {'C': c_space}"
      ],
      "execution_count": 0,
      "outputs": []
    },
    {
      "metadata": {
        "id": "_5083X28ASww",
        "colab_type": "text"
      },
      "cell_type": "markdown",
      "source": [
        "### GridSearch for best parameters"
      ]
    },
    {
      "metadata": {
        "id": "rMCA1-2v0oub",
        "colab_type": "code",
        "colab": {
          "base_uri": "https://localhost:8080/",
          "height": 34
        },
        "outputId": "a73c8de5-6ba9-4720-c2f6-47c5132d20a8"
      },
      "cell_type": "code",
      "source": [
        "logreg = LogisticRegression()\n",
        "logreg_cv = GridSearchCV(logreg, param_grid, cv=7)\n",
        "logreg_cv.fit(X_train,y_train)\n",
        "logreg_cv.best_params_"
      ],
      "execution_count": 83,
      "outputs": [
        {
          "output_type": "execute_result",
          "data": {
            "text/plain": [
              "{'C': 163789.3706954068}"
            ]
          },
          "metadata": {
            "tags": []
          },
          "execution_count": 83
        }
      ]
    },
    {
      "metadata": {
        "id": "GnxH13g7AgkQ",
        "colab_type": "text"
      },
      "cell_type": "markdown",
      "source": [
        "###Use the best parameters to predict"
      ]
    },
    {
      "metadata": {
        "id": "50rBJsow3OyG",
        "colab_type": "code",
        "colab": {
          "base_uri": "https://localhost:8080/",
          "height": 34
        },
        "outputId": "762f7dd8-c60d-415b-8462-bb4c50b7edc0"
      },
      "cell_type": "code",
      "source": [
        "y_pred = logreg_cv.predict(X_test)\n",
        "logreg_cv.score(X_test,y_test)"
      ],
      "execution_count": 84,
      "outputs": [
        {
          "output_type": "execute_result",
          "data": {
            "text/plain": [
              "0.81"
            ]
          },
          "metadata": {
            "tags": []
          },
          "execution_count": 84
        }
      ]
    },
    {
      "metadata": {
        "id": "3lv5YThuAsW8",
        "colab_type": "text"
      },
      "cell_type": "markdown",
      "source": [
        "##Model 3: Decision Tree"
      ]
    },
    {
      "metadata": {
        "id": "WRqnI1G1AyXJ",
        "colab_type": "text"
      },
      "cell_type": "markdown",
      "source": [
        "### Set up hyperparameter grid"
      ]
    },
    {
      "metadata": {
        "id": "swb2gkBl4Zqm",
        "colab_type": "code",
        "colab": {}
      },
      "cell_type": "code",
      "source": [
        "param_dist = {'max_depth': np.arange(1,30),\n",
        "             'max_features': np.arange(2,9),\n",
        "             'min_samples_leaf': np.arange(1,9),\n",
        "             'criterion': ['gini', 'entropy']}"
      ],
      "execution_count": 0,
      "outputs": []
    },
    {
      "metadata": {
        "id": "h-qGHiNZA0uU",
        "colab_type": "text"
      },
      "cell_type": "markdown",
      "source": [
        "### GridSearch for best parameters"
      ]
    },
    {
      "metadata": {
        "id": "vic02Jr9463J",
        "colab_type": "code",
        "colab": {
          "base_uri": "https://localhost:8080/",
          "height": 85
        },
        "outputId": "dac1d87c-d5cf-4ca0-ac2c-5e22055d34d5"
      },
      "cell_type": "code",
      "source": [
        "tree = DecisionTreeClassifier()\n",
        "tree_cv = RandomizedSearchCV(tree, param_dist, cv=7)\n",
        "tree_cv.fit(X_train, y_train)\n",
        "tree_cv.best_params_"
      ],
      "execution_count": 86,
      "outputs": [
        {
          "output_type": "execute_result",
          "data": {
            "text/plain": [
              "{'criterion': 'entropy',\n",
              " 'max_depth': 11,\n",
              " 'max_features': 6,\n",
              " 'min_samples_leaf': 7}"
            ]
          },
          "metadata": {
            "tags": []
          },
          "execution_count": 86
        }
      ]
    },
    {
      "metadata": {
        "id": "NF2yyfsBA4Gh",
        "colab_type": "text"
      },
      "cell_type": "markdown",
      "source": [
        "###Use the best parameters to predict"
      ]
    },
    {
      "metadata": {
        "id": "EkR4IOp-5Q9S",
        "colab_type": "code",
        "colab": {
          "base_uri": "https://localhost:8080/",
          "height": 34
        },
        "outputId": "db165723-296a-49e5-a6c7-41d584e5ba82"
      },
      "cell_type": "code",
      "source": [
        "y_pred = tree_cv.predict(X_test)\n",
        "tree_cv.score(X_test,y_test)"
      ],
      "execution_count": 87,
      "outputs": [
        {
          "output_type": "execute_result",
          "data": {
            "text/plain": [
              "0.785"
            ]
          },
          "metadata": {
            "tags": []
          },
          "execution_count": 87
        }
      ]
    },
    {
      "metadata": {
        "id": "D2coQvCzA6IQ",
        "colab_type": "text"
      },
      "cell_type": "markdown",
      "source": [
        "##Model 4: Random Forest"
      ]
    },
    {
      "metadata": {
        "id": "kxFVcYpBA-PD",
        "colab_type": "text"
      },
      "cell_type": "markdown",
      "source": [
        "### Set up hyperparameter grid"
      ]
    },
    {
      "metadata": {
        "id": "i9r4jMU98YS8",
        "colab_type": "code",
        "colab": {}
      },
      "cell_type": "code",
      "source": [
        "param_grid = {'n_estimators': [200, 500],\n",
        "    'max_features': ['auto', 'sqrt', 'log2'],\n",
        "    'max_depth' : np.arange(3,10),\n",
        "    'min_samples_leaf': np.arange(2,8),\n",
        "    'criterion' :['gini', 'entropy']}"
      ],
      "execution_count": 0,
      "outputs": []
    },
    {
      "metadata": {
        "id": "INagAV3LA_0m",
        "colab_type": "text"
      },
      "cell_type": "markdown",
      "source": [
        "### GridSearch for best parameters"
      ]
    },
    {
      "metadata": {
        "id": "keevdHbJ8Sca",
        "colab_type": "code",
        "colab": {
          "base_uri": "https://localhost:8080/",
          "height": 102
        },
        "outputId": "dba33ec4-c716-4ad0-e720-0758872fa3e3"
      },
      "cell_type": "code",
      "source": [
        "rfc=RandomForestClassifier(random_state=42)\n",
        "rfc_cv = RandomizedSearchCV(rfc, param_grid, cv=7)\n",
        "rfc_cv.fit(X_train, y_train)\n",
        "rfc_cv.best_params_"
      ],
      "execution_count": 89,
      "outputs": [
        {
          "output_type": "execute_result",
          "data": {
            "text/plain": [
              "{'criterion': 'gini',\n",
              " 'max_depth': 7,\n",
              " 'max_features': 'auto',\n",
              " 'min_samples_leaf': 2,\n",
              " 'n_estimators': 200}"
            ]
          },
          "metadata": {
            "tags": []
          },
          "execution_count": 89
        }
      ]
    },
    {
      "metadata": {
        "id": "aF_pNJQPBB1l",
        "colab_type": "text"
      },
      "cell_type": "markdown",
      "source": [
        "###Use the best parameters to predict"
      ]
    },
    {
      "metadata": {
        "id": "MKYGlBhk9rVe",
        "colab_type": "code",
        "colab": {
          "base_uri": "https://localhost:8080/",
          "height": 34
        },
        "outputId": "62be58a0-0baa-455c-d3e2-29e029f6c65a"
      },
      "cell_type": "code",
      "source": [
        "y_pred = rfc_cv.predict(X_test)\n",
        "rfc_cv.score(X_test,y_test)"
      ],
      "execution_count": 90,
      "outputs": [
        {
          "output_type": "execute_result",
          "data": {
            "text/plain": [
              "0.8416666666666667"
            ]
          },
          "metadata": {
            "tags": []
          },
          "execution_count": 90
        }
      ]
    },
    {
      "metadata": {
        "id": "Q-bkTprhBEXZ",
        "colab_type": "text"
      },
      "cell_type": "markdown",
      "source": [
        "##Model 5: Stacking (Combination of Multiple Models)"
      ]
    },
    {
      "metadata": {
        "colab_type": "code",
        "id": "nZPwTwXt7kY2",
        "colab": {}
      },
      "cell_type": "code",
      "source": [
        "clf1 = knn_cv\n",
        "clf2 = logreg_cv\n",
        "clf3 = tree_cv\n",
        "clf4 = rfc_cv\n",
        "sclf = StackingClassifier(classifiers=[clf1, clf2, clf3],\n",
        "                          use_probas=True,\n",
        "                          average_probas=False,\n",
        "                          meta_classifier=clf4)"
      ],
      "execution_count": 0,
      "outputs": []
    },
    {
      "metadata": {
        "id": "IJMFE4Ed6sFl",
        "colab_type": "code",
        "colab": {
          "base_uri": "https://localhost:8080/",
          "height": 34
        },
        "outputId": "027b3cc3-f1f8-489d-b556-c9afdcfb0e04"
      },
      "cell_type": "code",
      "source": [
        "sclf.fit(X_train,y_train) \n",
        "y_pred = sclf.predict(X_test)\n",
        "sclf.score(X_test,y_test)"
      ],
      "execution_count": 92,
      "outputs": [
        {
          "output_type": "execute_result",
          "data": {
            "text/plain": [
              "0.89"
            ]
          },
          "metadata": {
            "tags": []
          },
          "execution_count": 92
        }
      ]
    },
    {
      "metadata": {
        "id": "dgwCb08MFufA",
        "colab_type": "text"
      },
      "cell_type": "markdown",
      "source": [
        "##Prection Using the Best Model (KNN)"
      ]
    },
    {
      "metadata": {
        "id": "SdzIbrqD5yQx",
        "colab_type": "text"
      },
      "cell_type": "markdown",
      "source": [
        "###Confusion Matrix"
      ]
    },
    {
      "metadata": {
        "id": "VnLm5-Xr58Fi",
        "colab_type": "code",
        "colab": {
          "base_uri": "https://localhost:8080/",
          "height": 373
        },
        "outputId": "4fb2c670-ab0c-477f-9fc2-1de399bd700e"
      },
      "cell_type": "code",
      "source": [
        "cm = ConfusionMatrix(knn_cv, classes=[0,1])\n",
        "cm.fit(X_train, y_train)\n",
        "cm.score(X_test, y_test)\n",
        "cm.poof()"
      ],
      "execution_count": 28,
      "outputs": [
        {
          "output_type": "display_data",
          "data": {
            "image/png": "[encoded data removed]",
            "text/plain": [
              "<Figure size 576x396 with 1 Axes>"
            ]
          },
          "metadata": {
            "tags": []
          }
        }
      ]
    },
    {
      "metadata": {
        "id": "xVGPM-fkhgrU",
        "colab_type": "text"
      },
      "cell_type": "markdown",
      "source": [
        "###Classfication Report"
      ]
    },
    {
      "metadata": {
        "id": "kVT0s_ps0yEa",
        "colab_type": "text"
      },
      "cell_type": "markdown",
      "source": [
        "From the classification report, we can see that both precision and recall are very high. Thus, we are confident that this is a good model to use in pricing."
      ]
    },
    {
      "metadata": {
        "id": "D7b2F8j6hhkc",
        "colab_type": "code",
        "outputId": "53c572d6-6d33-4522-d397-8e7813318347",
        "colab": {
          "base_uri": "https://localhost:8080/",
          "height": 204
        }
      },
      "cell_type": "code",
      "source": [
        "print(classification_report(y_test, y_pred))"
      ],
      "execution_count": 0,
      "outputs": [
        {
          "output_type": "stream",
          "text": [
            "              precision    recall  f1-score   support\n",
            "\n",
            "           0       0.95      0.97      0.96       150\n",
            "           1       0.92      0.91      0.91       150\n",
            "           2       0.90      0.91      0.91       150\n",
            "           3       0.96      0.94      0.95       150\n",
            "\n",
            "   micro avg       0.93      0.93      0.93       600\n",
            "   macro avg       0.93      0.93      0.93       600\n",
            "weighted avg       0.93      0.93      0.93       600\n",
            "\n"
          ],
          "name": "stdout"
        }
      ]
    },
    {
      "metadata": {
        "id": "bYnLXFn8P2GA",
        "colab_type": "text"
      },
      "cell_type": "markdown",
      "source": [
        "##Conclusion"
      ]
    },
    {
      "metadata": {
        "id": "Y7A-d_kjP3Pc",
        "colab_type": "text"
      },
      "cell_type": "markdown",
      "source": [
        "* In this project, I use mobile phone as an example to illustrate how to use product features and competitors’ pricing information to build a pricing model for our products. \n",
        "\n",
        "* Four classification models (KNN, logistics regression, decision tree, random forest) are built using the best parameters selected by GridSearch Cross Validation.\n",
        "  1.   The KNN model achieves 93% accuracy.\n",
        "  2.   The logistics regression model achieves 81% accuracy.\n",
        "  3.   The decision tree model achieves 78.5% accuracy.\n",
        "  4.   The random forest model achieves 84% accuracy.\n",
        "\n",
        "* Stacking Classification model is also created by combining four models above, which achieves accuracy of 89%. So KNN is the best prediction model for this dataset.\n",
        "\n",
        "* With this model, we can price mobile phones based on their features easily. Simply telling the machine what are the features of your product, it will give you a recommended price. \n",
        "* This pricing model can be implemented in other products and industries. It incorporates both value-based pricing (which considers product value) and competitive pricing (which considers competitors’ pricing). Thus, it is a good model for new product pricing."
      ]
    }
  ]
}