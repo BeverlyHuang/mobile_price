{
  "nbformat": 4,
  "nbformat_minor": 0,
  "metadata": {
    "colab": {
      "name": "Mobile Pricing.ipynb",
      "version": "0.3.2",
      "provenance": [],
      "include_colab_link": true
    },
    "kernelspec": {
      "name": "python3",
      "display_name": "Python 3"
    }
  },
  "cells": [
    {
      "cell_type": "markdown",
      "metadata": {
        "id": "view-in-github",
        "colab_type": "text"
      },
      "source": [
        "<a href=\"https://colab.research.google.com/github/BeverlyHuang/mobile_price/blob/master/Mobile_Pricing.ipynb\" target=\"_parent\"><img src=\"https://colab.research.google.com/assets/colab-badge.svg\" alt=\"Open In Colab\"/></a>"
      ]
    },
    {
      "metadata": {
        "id": "YrTL-PkbRq_R",
        "colab_type": "text"
      },
      "cell_type": "markdown",
      "source": [
        "#Applying Machine Learning to Mobile Pricing"
      ]
    },
    {
      "metadata": {
        "id": "B2Z_DS1dUlIZ",
        "colab_type": "text"
      },
      "cell_type": "markdown",
      "source": [
        "Pricing is a very powerful tool in business. No matter you are creating a new product or starting a new business, you need to think about how to price your product smartly. Especially in a competitive market, if you are good at pricing, you can differentiate yourself from your competitors and get more market share. \n",
        "\n",
        "Thus,  the problem is how do we price our product. This project will use mobile phone market as an example to illustrate the machine learning method we can use for pricing.\n"
      ]
    },
    {
      "metadata": {
        "id": "OQTzwAdXPbAR",
        "colab_type": "text"
      },
      "cell_type": "markdown",
      "source": [
        "##Ingestion"
      ]
    },
    {
      "metadata": {
        "id": "ZQTbz3geUoay",
        "colab_type": "text"
      },
      "cell_type": "markdown",
      "source": [
        "###Import Libraries"
      ]
    },
    {
      "metadata": {
        "id": "Y89etaZPRkOy",
        "colab_type": "code",
        "colab": {}
      },
      "cell_type": "code",
      "source": [
        "import numpy as np\n",
        "import pandas as pd\n",
        "import matplotlib.pyplot as plt\n",
        "import seaborn as sns\n",
        "from sklearn.neighbors import KNeighborsClassifier\n",
        "from sklearn.model_selection import train_test_split, GridSearchCV\n",
        "from sklearn.metrics import classification_report\n",
        "%matplotlib inline"
      ],
      "execution_count": 0,
      "outputs": []
    },
    {
      "metadata": {
        "id": "fwJ60-P6UzVs",
        "colab_type": "text"
      },
      "cell_type": "markdown",
      "source": [
        "###Load Data"
      ]
    },
    {
      "metadata": {
        "id": "Tq0al7iVzBSw",
        "colab_type": "text"
      },
      "cell_type": "markdown",
      "source": [
        "The dataset contains data on different mobile phone features such as battery power, internal memory, etc. and its selling price. \n",
        "The last column is our target - price. In this case, prices are in ranges. The larger the number, the higher the price of the phone."
      ]
    },
    {
      "metadata": {
        "id": "Q5FvZzwqU1hq",
        "colab_type": "code",
        "outputId": "d3f95a64-7fbe-4610-f2ab-488f4407c76b",
        "colab": {
          "base_uri": "https://localhost:8080/",
          "height": 253
        }
      },
      "cell_type": "code",
      "source": [
        "mobile = pd.read_csv(\"https://raw.githubusercontent.com/BeverlyHuang/mobile_price/master/train.csv\")\n",
        "mobile.head()"
      ],
      "execution_count": 0,
      "outputs": [
        {
          "output_type": "execute_result",
          "data": {
            "text/html": [
              "<div>\n",
              "<style scoped>\n",
              "    .dataframe tbody tr th:only-of-type {\n",
              "        vertical-align: middle;\n",
              "    }\n",
              "\n",
              "    .dataframe tbody tr th {\n",
              "        vertical-align: top;\n",
              "    }\n",
              "\n",
              "    .dataframe thead th {\n",
              "        text-align: right;\n",
              "    }\n",
              "</style>\n",
              "<table border=\"1\" class=\"dataframe\">\n",
              "  <thead>\n",
              "    <tr style=\"text-align: right;\">\n",
              "      <th></th>\n",
              "      <th>battery_power</th>\n",
              "      <th>blue</th>\n",
              "      <th>clock_speed</th>\n",
              "      <th>dual_sim</th>\n",
              "      <th>fc</th>\n",
              "      <th>four_g</th>\n",
              "      <th>int_memory</th>\n",
              "      <th>m_dep</th>\n",
              "      <th>mobile_wt</th>\n",
              "      <th>n_cores</th>\n",
              "      <th>...</th>\n",
              "      <th>px_height</th>\n",
              "      <th>px_width</th>\n",
              "      <th>ram</th>\n",
              "      <th>sc_h</th>\n",
              "      <th>sc_w</th>\n",
              "      <th>talk_time</th>\n",
              "      <th>three_g</th>\n",
              "      <th>touch_screen</th>\n",
              "      <th>wifi</th>\n",
              "      <th>price_range</th>\n",
              "    </tr>\n",
              "  </thead>\n",
              "  <tbody>\n",
              "    <tr>\n",
              "      <th>0</th>\n",
              "      <td>842</td>\n",
              "      <td>0</td>\n",
              "      <td>2.2</td>\n",
              "      <td>0</td>\n",
              "      <td>1</td>\n",
              "      <td>0</td>\n",
              "      <td>7</td>\n",
              "      <td>0.6</td>\n",
              "      <td>188</td>\n",
              "      <td>2</td>\n",
              "      <td>...</td>\n",
              "      <td>20</td>\n",
              "      <td>756</td>\n",
              "      <td>2549</td>\n",
              "      <td>9</td>\n",
              "      <td>7</td>\n",
              "      <td>19</td>\n",
              "      <td>0</td>\n",
              "      <td>0</td>\n",
              "      <td>1</td>\n",
              "      <td>1</td>\n",
              "    </tr>\n",
              "    <tr>\n",
              "      <th>1</th>\n",
              "      <td>1021</td>\n",
              "      <td>1</td>\n",
              "      <td>0.5</td>\n",
              "      <td>1</td>\n",
              "      <td>0</td>\n",
              "      <td>1</td>\n",
              "      <td>53</td>\n",
              "      <td>0.7</td>\n",
              "      <td>136</td>\n",
              "      <td>3</td>\n",
              "      <td>...</td>\n",
              "      <td>905</td>\n",
              "      <td>1988</td>\n",
              "      <td>2631</td>\n",
              "      <td>17</td>\n",
              "      <td>3</td>\n",
              "      <td>7</td>\n",
              "      <td>1</td>\n",
              "      <td>1</td>\n",
              "      <td>0</td>\n",
              "      <td>2</td>\n",
              "    </tr>\n",
              "    <tr>\n",
              "      <th>2</th>\n",
              "      <td>563</td>\n",
              "      <td>1</td>\n",
              "      <td>0.5</td>\n",
              "      <td>1</td>\n",
              "      <td>2</td>\n",
              "      <td>1</td>\n",
              "      <td>41</td>\n",
              "      <td>0.9</td>\n",
              "      <td>145</td>\n",
              "      <td>5</td>\n",
              "      <td>...</td>\n",
              "      <td>1263</td>\n",
              "      <td>1716</td>\n",
              "      <td>2603</td>\n",
              "      <td>11</td>\n",
              "      <td>2</td>\n",
              "      <td>9</td>\n",
              "      <td>1</td>\n",
              "      <td>1</td>\n",
              "      <td>0</td>\n",
              "      <td>2</td>\n",
              "    </tr>\n",
              "    <tr>\n",
              "      <th>3</th>\n",
              "      <td>615</td>\n",
              "      <td>1</td>\n",
              "      <td>2.5</td>\n",
              "      <td>0</td>\n",
              "      <td>0</td>\n",
              "      <td>0</td>\n",
              "      <td>10</td>\n",
              "      <td>0.8</td>\n",
              "      <td>131</td>\n",
              "      <td>6</td>\n",
              "      <td>...</td>\n",
              "      <td>1216</td>\n",
              "      <td>1786</td>\n",
              "      <td>2769</td>\n",
              "      <td>16</td>\n",
              "      <td>8</td>\n",
              "      <td>11</td>\n",
              "      <td>1</td>\n",
              "      <td>0</td>\n",
              "      <td>0</td>\n",
              "      <td>2</td>\n",
              "    </tr>\n",
              "    <tr>\n",
              "      <th>4</th>\n",
              "      <td>1821</td>\n",
              "      <td>1</td>\n",
              "      <td>1.2</td>\n",
              "      <td>0</td>\n",
              "      <td>13</td>\n",
              "      <td>1</td>\n",
              "      <td>44</td>\n",
              "      <td>0.6</td>\n",
              "      <td>141</td>\n",
              "      <td>2</td>\n",
              "      <td>...</td>\n",
              "      <td>1208</td>\n",
              "      <td>1212</td>\n",
              "      <td>1411</td>\n",
              "      <td>8</td>\n",
              "      <td>2</td>\n",
              "      <td>15</td>\n",
              "      <td>1</td>\n",
              "      <td>1</td>\n",
              "      <td>0</td>\n",
              "      <td>1</td>\n",
              "    </tr>\n",
              "  </tbody>\n",
              "</table>\n",
              "<p>5 rows × 21 columns</p>\n",
              "</div>"
            ],
            "text/plain": [
              "   battery_power  blue  clock_speed  dual_sim  fc  four_g  int_memory  m_dep  \\\n",
              "0            842     0          2.2         0   1       0           7    0.6   \n",
              "1           1021     1          0.5         1   0       1          53    0.7   \n",
              "2            563     1          0.5         1   2       1          41    0.9   \n",
              "3            615     1          2.5         0   0       0          10    0.8   \n",
              "4           1821     1          1.2         0  13       1          44    0.6   \n",
              "\n",
              "   mobile_wt  n_cores     ...       px_height  px_width   ram  sc_h  sc_w  \\\n",
              "0        188        2     ...              20       756  2549     9     7   \n",
              "1        136        3     ...             905      1988  2631    17     3   \n",
              "2        145        5     ...            1263      1716  2603    11     2   \n",
              "3        131        6     ...            1216      1786  2769    16     8   \n",
              "4        141        2     ...            1208      1212  1411     8     2   \n",
              "\n",
              "   talk_time  three_g  touch_screen  wifi  price_range  \n",
              "0         19        0             0     1            1  \n",
              "1          7        1             1     0            2  \n",
              "2          9        1             1     0            2  \n",
              "3         11        1             0     0            2  \n",
              "4         15        1             1     0            1  \n",
              "\n",
              "[5 rows x 21 columns]"
            ]
          },
          "metadata": {
            "tags": []
          },
          "execution_count": 2
        }
      ]
    },
    {
      "metadata": {
        "id": "wzETKxpUVD2e",
        "colab_type": "text"
      },
      "cell_type": "markdown",
      "source": [
        "##EDA"
      ]
    },
    {
      "metadata": {
        "id": "X0CL9qxFVGoh",
        "colab_type": "text"
      },
      "cell_type": "markdown",
      "source": [
        "###Correlation Heatmap"
      ]
    },
    {
      "metadata": {
        "id": "YJZ0E5PPzrO2",
        "colab_type": "text"
      },
      "cell_type": "markdown",
      "source": [
        "To understand the relationship between the features of a mobile phone and its selling price, I use Seaborn Correlation Heatmap to visualize correlations between all variables. From the Heatmap, we can see that ram, battery power, internal memory and dual sim have higher correlation with selling price than any other features.\n"
      ]
    },
    {
      "metadata": {
        "id": "wbHYgdw6VEyl",
        "colab_type": "code",
        "outputId": "e4f97734-01f4-486a-b430-24cbccedf5c3",
        "colab": {
          "base_uri": "https://localhost:8080/",
          "height": 336
        }
      },
      "cell_type": "code",
      "source": [
        "corr = mobile.corr()\n",
        "sns.heatmap(corr, \n",
        "            xticklabels=corr.columns.values,\n",
        "            yticklabels=corr.columns.values, \n",
        "            cmap='YlGnBu')"
      ],
      "execution_count": 0,
      "outputs": [
        {
          "output_type": "execute_result",
          "data": {
            "text/plain": [
              "<matplotlib.axes._subplots.AxesSubplot at 0x7ff300716908>"
            ]
          },
          "metadata": {
            "tags": []
          },
          "execution_count": 134
        },
        {
          "output_type": "display_data",
          "data": {
            "image/png": "[encoded data removed]",
            "text/plain": [
              "<Figure size 432x288 with 2 Axes>"
            ]
          },
          "metadata": {
            "tags": []
          }
        }
      ]
    },
    {
      "metadata": {
        "id": "v-jDUI9mV-1y",
        "colab_type": "text"
      },
      "cell_type": "markdown",
      "source": [
        "###Ram vs Price"
      ]
    },
    {
      "metadata": {
        "id": "G9Toy_TCz5Ou",
        "colab_type": "text"
      },
      "cell_type": "markdown",
      "source": [
        "I take out each feature and use Seaborn plots to look at their relationships with selling price.\n",
        "The joint plot shows the distribution of both variables and the density of all data points. We can see that the higher the ram, the higher the price range."
      ]
    },
    {
      "metadata": {
        "id": "534Rhm4TXU8T",
        "colab_type": "code",
        "outputId": "172078a5-7cd3-4792-9c4b-8d366310f957",
        "colab": {
          "base_uri": "https://localhost:8080/",
          "height": 458
        }
      },
      "cell_type": "code",
      "source": [
        "sns.jointplot(x=\"ram\", y=\"price_range\", data=mobile, kind=\"kde\")"
      ],
      "execution_count": 0,
      "outputs": [
        {
          "output_type": "execute_result",
          "data": {
            "text/plain": [
              "<seaborn.axisgrid.JointGrid at 0x7ff301bbc710>"
            ]
          },
          "metadata": {
            "tags": []
          },
          "execution_count": 13
        },
        {
          "output_type": "display_data",
          "data": {
            "image/png": "[encoded data removed]",
            "text/plain": [
              "<Figure size 432x432 with 3 Axes>"
            ]
          },
          "metadata": {
            "tags": []
          }
        }
      ]
    },
    {
      "metadata": {
        "id": "K73LON9faB2-",
        "colab_type": "text"
      },
      "cell_type": "markdown",
      "source": [
        "###Battery Power vs Price"
      ]
    },
    {
      "metadata": {
        "id": "I6HCOokfoqAS",
        "colab_type": "code",
        "outputId": "f535b92d-3535-4627-921c-3200532e7045",
        "colab": {
          "base_uri": "https://localhost:8080/",
          "height": 458
        }
      },
      "cell_type": "code",
      "source": [
        "sns.jointplot(x=\"battery_power\", y=\"price_range\", data=mobile, kind=\"kde\", color=\"grey\")"
      ],
      "execution_count": 0,
      "outputs": [
        {
          "output_type": "execute_result",
          "data": {
            "text/plain": [
              "<seaborn.axisgrid.JointGrid at 0x7ff301e1ae10>"
            ]
          },
          "metadata": {
            "tags": []
          },
          "execution_count": 122
        },
        {
          "output_type": "display_data",
          "data": {
            "image/png": "[encoded data removed]",
            "text/plain": [
              "<Figure size 432x432 with 3 Axes>"
            ]
          },
          "metadata": {
            "tags": []
          }
        }
      ]
    },
    {
      "metadata": {
        "id": "KuUWU-B_YFoA",
        "colab_type": "text"
      },
      "cell_type": "markdown",
      "source": [
        "###Memory vs Price"
      ]
    },
    {
      "metadata": {
        "id": "yMXbiai1YMEQ",
        "colab_type": "code",
        "outputId": "c775aaa8-3126-4953-97d9-53be7d7d4c38",
        "colab": {
          "base_uri": "https://localhost:8080/",
          "height": 330
        }
      },
      "cell_type": "code",
      "source": [
        "sns.barplot(x=\"price_range\", y=\"int_memory\", data=mobile)"
      ],
      "execution_count": 0,
      "outputs": [
        {
          "output_type": "stream",
          "text": [
            "/usr/local/lib/python3.6/dist-packages/seaborn/categorical.py:1428: FutureWarning: remove_na is deprecated and is a private function. Do not use.\n",
            "  stat_data = remove_na(group_data)\n"
          ],
          "name": "stderr"
        },
        {
          "output_type": "execute_result",
          "data": {
            "text/plain": [
              "<matplotlib.axes._subplots.AxesSubplot at 0x7ff30207b7f0>"
            ]
          },
          "metadata": {
            "tags": []
          },
          "execution_count": 124
        },
        {
          "output_type": "display_data",
          "data": {
            "image/png": "[encoded data removed]",
            "text/plain": [
              "<Figure size 432x288 with 1 Axes>"
            ]
          },
          "metadata": {
            "tags": []
          }
        }
      ]
    },
    {
      "metadata": {
        "id": "PRFKEW5Zlye9",
        "colab_type": "text"
      },
      "cell_type": "markdown",
      "source": [
        "###Dual sim vs Price"
      ]
    },
    {
      "metadata": {
        "id": "ZNC4o2-5l6sY",
        "colab_type": "code",
        "outputId": "6ac75103-475d-44a4-84e7-7ca2ed5f2029",
        "colab": {
          "base_uri": "https://localhost:8080/",
          "height": 330
        }
      },
      "cell_type": "code",
      "source": [
        "sns.boxplot(x=\"dual_sim\", y=\"price_range\", data=mobile)"
      ],
      "execution_count": 0,
      "outputs": [
        {
          "output_type": "stream",
          "text": [
            "/usr/local/lib/python3.6/dist-packages/seaborn/categorical.py:454: FutureWarning: remove_na is deprecated and is a private function. Do not use.\n",
            "  box_data = remove_na(group_data)\n"
          ],
          "name": "stderr"
        },
        {
          "output_type": "execute_result",
          "data": {
            "text/plain": [
              "<matplotlib.axes._subplots.AxesSubplot at 0x7ff30126fe80>"
            ]
          },
          "metadata": {
            "tags": []
          },
          "execution_count": 117
        },
        {
          "output_type": "display_data",
          "data": {
            "image/png": "[encoded data removed]",
            "text/plain": [
              "<Figure size 432x288 with 1 Axes>"
            ]
          },
          "metadata": {
            "tags": []
          }
        }
      ]
    },
    {
      "metadata": {
        "id": "V5bi7fiPai3Y",
        "colab_type": "text"
      },
      "cell_type": "markdown",
      "source": [
        "##KNN Modeling"
      ]
    },
    {
      "metadata": {
        "id": "GguzLatt18rP",
        "colab_type": "text"
      },
      "cell_type": "markdown",
      "source": [
        "I want to build a KNN model to classify price range based on product features."
      ]
    },
    {
      "metadata": {
        "id": "mECb7ntoapew",
        "colab_type": "text"
      },
      "cell_type": "markdown",
      "source": [
        "###Seperate features and target"
      ]
    },
    {
      "metadata": {
        "id": "U3CrnrzjaoO_",
        "colab_type": "code",
        "colab": {}
      },
      "cell_type": "code",
      "source": [
        "X=mobile.drop('price_range',axis=1)\n",
        "y=mobile['price_range']"
      ],
      "execution_count": 0,
      "outputs": []
    },
    {
      "metadata": {
        "id": "I6Ji-tJya1jG",
        "colab_type": "text"
      },
      "cell_type": "markdown",
      "source": [
        "###Train/Test split"
      ]
    },
    {
      "metadata": {
        "id": "-j7RdmBfa5oL",
        "colab_type": "code",
        "colab": {}
      },
      "cell_type": "code",
      "source": [
        "X_train, X_test, y_train, y_test = train_test_split(X, y, test_size=0.3, random_state=100, stratify=y)"
      ],
      "execution_count": 0,
      "outputs": []
    },
    {
      "metadata": {
        "id": "zKH1eUXTi9px",
        "colab_type": "text"
      },
      "cell_type": "markdown",
      "source": [
        "###Find the best K to build a KNN model"
      ]
    },
    {
      "metadata": {
        "id": "mjqVSmlN0Kzd",
        "colab_type": "text"
      },
      "cell_type": "markdown",
      "source": [
        "What K (number of nearest neighbors) should we choose?"
      ]
    },
    {
      "metadata": {
        "id": "rQ0dJ8AacoyR",
        "colab_type": "text"
      },
      "cell_type": "markdown",
      "source": [
        "####Method 1: Plot testing accuracy and select the K with highest accuracy"
      ]
    },
    {
      "metadata": {
        "id": "HmhyGzhJ0URw",
        "colab_type": "text"
      },
      "cell_type": "markdown",
      "source": [
        "I plot training and testing accuracy of the KNN model for K values from 1 to 30. When K = 15, the model has the highest testing accuracy."
      ]
    },
    {
      "metadata": {
        "id": "H5DMvkTBcpvD",
        "colab_type": "code",
        "outputId": "5be2cda2-dac2-403f-b5f4-217dfd5eeac6",
        "colab": {
          "base_uri": "https://localhost:8080/",
          "height": 294
        }
      },
      "cell_type": "code",
      "source": [
        "# set up array to store train/test accuracy\n",
        "neighbors = np.arange(1,30)\n",
        "train_accuracy = np.empty(len(neighbors))\n",
        "test_accuracy = np.empty(len(neighbors))\n",
        "\n",
        "# loop over different k\n",
        "for i, k in enumerate(neighbors):\n",
        "  knn = KNeighborsClassifier(n_neighbors = k)\n",
        "  knn.fit(X_train, y_train)\n",
        "  train_accuracy[i] = knn.score(X_train, y_train)\n",
        "  test_accuracy[i] = knn.score(X_test, y_test)\n",
        "\n",
        "# generate plot\n",
        "plt.title(\"KNN: Varying Number of Neighbors\")\n",
        "plt.plot(neighbors, test_accuracy, label = \"Testing Accuracy\")\n",
        "plt.plot(neighbors, train_accuracy, label = \"Training Accuracy\")\n",
        "plt.legend()\n",
        "plt.xlabel(\"Number of Neighbors\")\n",
        "plt.ylabel(\"Accuracy\")\n",
        "plt.show()"
      ],
      "execution_count": 0,
      "outputs": [
        {
          "output_type": "display_data",
          "data": {
            "image/png": "[encoded data removed]",
            "text/plain": [
              "<Figure size 432x288 with 1 Axes>"
            ]
          },
          "metadata": {
            "tags": []
          }
        }
      ]
    },
    {
      "metadata": {
        "id": "lH80VtEEc15p",
        "colab_type": "text"
      },
      "cell_type": "markdown",
      "source": [
        "#### Method 2: Use GridSearchCV to automatically search for the best K"
      ]
    },
    {
      "metadata": {
        "id": "yI0lykEJ0fcC",
        "colab_type": "text"
      },
      "cell_type": "markdown",
      "source": [
        "I use another method called Grid Search cross validation. This method will try a bunch of K values, fit all of them separately and tell me which K performs best. This method also gives me the same answer: K = 15."
      ]
    },
    {
      "metadata": {
        "id": "4qCIgdBDdBBb",
        "colab_type": "code",
        "outputId": "20279276-b6e4-4934-f6df-8c3aee7ae888",
        "colab": {
          "base_uri": "https://localhost:8080/",
          "height": 34
        }
      },
      "cell_type": "code",
      "source": [
        "param_grid = {'n_neighbors': np.arange(1,30)}\n",
        "knn_cv = GridSearchCV(knn, param_grid, cv=7)\n",
        "knn_cv.fit(X_train,y_train)\n",
        "knn_cv.best_params_"
      ],
      "execution_count": 0,
      "outputs": [
        {
          "output_type": "execute_result",
          "data": {
            "text/plain": [
              "{'n_neighbors': 15}"
            ]
          },
          "metadata": {
            "tags": []
          },
          "execution_count": 109
        }
      ]
    },
    {
      "metadata": {
        "id": "Iz0O8UT3epk2",
        "colab_type": "text"
      },
      "cell_type": "markdown",
      "source": [
        "####Use the best K to predict"
      ]
    },
    {
      "metadata": {
        "id": "XJiQHNZb0sSV",
        "colab_type": "text"
      },
      "cell_type": "markdown",
      "source": [
        "So I use K = 15 to build the KNN model and predict test data, and accuracy is 93%."
      ]
    },
    {
      "metadata": {
        "id": "5oJZox-hesbx",
        "colab_type": "code",
        "outputId": "26c47aac-db92-496f-9948-04d03a46a48a",
        "colab": {
          "base_uri": "https://localhost:8080/",
          "height": 34
        }
      },
      "cell_type": "code",
      "source": [
        "y_pred = knn_cv.predict(X_test)\n",
        "knn_cv.score(X_test,y_test)"
      ],
      "execution_count": 0,
      "outputs": [
        {
          "output_type": "execute_result",
          "data": {
            "text/plain": [
              "0.9316666666666666"
            ]
          },
          "metadata": {
            "tags": []
          },
          "execution_count": 110
        }
      ]
    },
    {
      "metadata": {
        "id": "xVGPM-fkhgrU",
        "colab_type": "text"
      },
      "cell_type": "markdown",
      "source": [
        "####Classfication Report"
      ]
    },
    {
      "metadata": {
        "id": "kVT0s_ps0yEa",
        "colab_type": "text"
      },
      "cell_type": "markdown",
      "source": [
        "From the classification report, we can see that both precision and recall are very high. Thus, we are confident that this is a good model to use in pricing."
      ]
    },
    {
      "metadata": {
        "id": "D7b2F8j6hhkc",
        "colab_type": "code",
        "outputId": "53c572d6-6d33-4522-d397-8e7813318347",
        "colab": {
          "base_uri": "https://localhost:8080/",
          "height": 204
        }
      },
      "cell_type": "code",
      "source": [
        "print(classification_report(y_test, y_pred))"
      ],
      "execution_count": 0,
      "outputs": [
        {
          "output_type": "stream",
          "text": [
            "              precision    recall  f1-score   support\n",
            "\n",
            "           0       0.95      0.97      0.96       150\n",
            "           1       0.92      0.91      0.91       150\n",
            "           2       0.90      0.91      0.91       150\n",
            "           3       0.96      0.94      0.95       150\n",
            "\n",
            "   micro avg       0.93      0.93      0.93       600\n",
            "   macro avg       0.93      0.93      0.93       600\n",
            "weighted avg       0.93      0.93      0.93       600\n",
            "\n"
          ],
          "name": "stdout"
        }
      ]
    },
    {
      "metadata": {
        "id": "bYnLXFn8P2GA",
        "colab_type": "text"
      },
      "cell_type": "markdown",
      "source": [
        "##Conclusion"
      ]
    },
    {
      "metadata": {
        "id": "Y7A-d_kjP3Pc",
        "colab_type": "text"
      },
      "cell_type": "markdown",
      "source": [
        "* In this project, I use mobile phone as an example to illustrate how to use product features and competitors’ pricing information to build a pricing model for our products. \n",
        "* A KNN model is built based on the best K we find from both testing accuracy and GridSearch cross validation result. This model achieves 93% accuracy.\n",
        "* With this model, we can price mobile phones based on their features easily. Simply telling the machine what are the features of your product, it will give you a recommended price. \n",
        "* This pricing model can be implemented in other products and industries. It incorporates both value-based pricing (which considers product value) and competitive pricing (which considers competitors’ pricing). Thus, it is a good model for new product pricing."
      ]
    }
  ]
}